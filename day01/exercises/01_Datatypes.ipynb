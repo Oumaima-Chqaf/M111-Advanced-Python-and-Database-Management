{
  "cells": [
    {
      "cell_type": "markdown",
      "metadata": {
        "id": "view-in-github",
        "colab_type": "text"
      },
      "source": [
        "<a href=\"https://colab.research.google.com/github/Oumaima-Chqaf/M111-Advanced-Python-and-Database-Management/blob/main/day01/exercises/01_Datatypes.ipynb\" target=\"_parent\"><img src=\"https://colab.research.google.com/assets/colab-badge.svg\" alt=\"Open In Colab\"/></a>"
      ]
    },
    {
      "cell_type": "markdown",
      "metadata": {
        "id": "MSxIUaHE-Ssz"
      },
      "source": [
        "# Datatypes exercises"
      ]
    },
    {
      "cell_type": "markdown",
      "metadata": {
        "id": "ttJjyA6_-Ss1"
      },
      "source": [
        "## Exercise 1"
      ]
    },
    {
      "cell_type": "markdown",
      "metadata": {
        "id": "7Ues4hF1-Ss1"
      },
      "source": [
        "Write the following mathematical formula in Python:\n",
        "\n",
        "\\begin{align}\n",
        " result = 6a^3 - \\frac{8b^2 }{4c} + 11\n",
        "\\end{align}\n",
        "\n",
        "```python\n",
        "a = 2\n",
        "b = 3\n",
        "c = 2\n",
        "```\n",
        "\n",
        "> write your formula as \n",
        "```python\n",
        "result = \n",
        "```\n",
        "\n",
        "It must verify\n",
        "```python\n",
        ">>> assert result == 50"
      ]
    },
    {
      "cell_type": "code",
      "source": [
        "result = 6*(2**3)-(8*(3**2))/(4*2)+11\n",
        "result\n",
        "assert result ==50"
      ],
      "metadata": {
        "id": "pPcKQIP6-Wmq"
      },
      "execution_count": null,
      "outputs": []
    },
    {
      "cell_type": "markdown",
      "metadata": {
        "id": "vIsBSFQM-Ss2"
      },
      "source": [
        "## Exercise 2"
      ]
    },
    {
      "cell_type": "markdown",
      "metadata": {
        "id": "LHexCP7H-Ss2"
      },
      "source": [
        "Explain why the folowing assertion fails"
      ]
    },
    {
      "cell_type": "code",
      "execution_count": null,
      "metadata": {
        "id": "7062fC45-Ss2",
        "outputId": "16b1dbef-d360-477b-df67-60fa1eb93c19"
      },
      "outputs": [
        {
          "ename": "AssertionError",
          "evalue": "",
          "output_type": "error",
          "traceback": [
            "\u001b[1;31m---------------------------------------------------------------------------\u001b[0m",
            "\u001b[1;31mAssertionError\u001b[0m                            Traceback (most recent call last)",
            "Cell \u001b[1;32mIn [1], line 1\u001b[0m\n\u001b[1;32m----> 1\u001b[0m \u001b[39massert\u001b[39;00m (\u001b[39m0.1\u001b[39m \u001b[39m+\u001b[39m \u001b[39m0.2\u001b[39m \u001b[39m==\u001b[39m \u001b[39m0.3\u001b[39m)\n",
            "\u001b[1;31mAssertionError\u001b[0m: "
          ]
        }
      ],
      "source": [
        "assert (0.1 + 0.2 == 0.3) # will cause assertion error\n",
        "#In Python we should never comapre floating numbers wirh \"=\", because the number is being converted from the base 10 to base 2.\n",
        "#The right way to compare equality is to uns the function 'isclose'found in math library"
      ]
    },
    {
      "cell_type": "markdown",
      "metadata": {
        "id": "hsjRHHvW-Ss3"
      },
      "source": [
        "## Exercise 3"
      ]
    },
    {
      "cell_type": "markdown",
      "metadata": {
        "id": "H9cebfyD-Ss3"
      },
      "source": [
        "Write a Python program to sum all the items in a list"
      ]
    },
    {
      "cell_type": "code",
      "execution_count": null,
      "metadata": {
        "colab": {
          "base_uri": "https://localhost:8080/"
        },
        "id": "JLWJR-rq-Ss3",
        "outputId": "f9d5da4f-0fda-43fa-db65-94203c0f429c"
      },
      "outputs": [
        {
          "output_type": "stream",
          "name": "stdout",
          "text": [
            "29\n"
          ]
        }
      ],
      "source": [
        "#Code Here\n",
        "def sum_list(l):\n",
        "  sum=0\n",
        "  for i in range(len(l)):\n",
        "    sum = sum + l[i]\n",
        "  return sum\n",
        "assert sum_list([10, 20, -1]) == 29"
      ]
    },
    {
      "cell_type": "markdown",
      "metadata": {
        "id": "YjbkOh4j-Ss3"
      },
      "source": [
        "## Exercise 4"
      ]
    },
    {
      "cell_type": "markdown",
      "metadata": {
        "id": "vzKDNDdE-Ss3"
      },
      "source": [
        "Write a program that asks how long it took to run 10 km today. The program continues to ask how long (in minutes) it took for additional runs, until the user enters q. At that point, the program exits — but only after calculating and displaying the average time that the 10 km run took.  \n",
        "\n",
        "\n",
        "Example:\n",
        "```\n",
        "Enter 10 km run time: 15\n",
        "Enter 10 km run time: 20\n",
        "Enter 10 km run time: 10\n",
        "Enter 10 km run time: q\n",
        "\n",
        "Average of 15.0, over 3 runs\n",
        "```"
      ]
    },
    {
      "cell_type": "code",
      "source": [
        "def avrTimeRun():\n",
        "  inp=input('Enter 10 km run time:')\n",
        "  sum=0\n",
        "  n=0\n",
        "  while inp != 'q':\n",
        "    sum =sum + int(inp)\n",
        "    n =n +1\n",
        "    inp=input('Enter 10 km run time:')\n",
        "  print(\"Average of \",float(sum/n),\", over \",n,\" runs\")\n",
        "\n",
        "avrTimeRun()   \n",
        "\n"
      ],
      "metadata": {
        "colab": {
          "base_uri": "https://localhost:8080/"
        },
        "id": "BopsRrv6DDdy",
        "outputId": "1b6aa530-450a-4498-e4e7-d141a4c7642f"
      },
      "execution_count": null,
      "outputs": [
        {
          "output_type": "stream",
          "name": "stdout",
          "text": [
            "Enter 10 km run time:15\n",
            "Enter 10 km run time:20\n",
            "Enter 10 km run time:10\n",
            "Enter 10 km run time:q\n",
            "Average of  15.0 , over  3  runs\n"
          ]
        }
      ]
    },
    {
      "cell_type": "markdown",
      "metadata": {
        "id": "Abp1eilj-Ss3"
      },
      "source": [
        "## Exercise 5"
      ]
    },
    {
      "cell_type": "markdown",
      "metadata": {
        "id": "HjzA-v9R-Ss4"
      },
      "source": [
        "Write a function that takes a string and returns the sorted string."
      ]
    },
    {
      "cell_type": "code",
      "execution_count": null,
      "metadata": {
        "id": "tZEReRFd-Ss4"
      },
      "outputs": [],
      "source": [
        "def sort_string(s):\n",
        "    # Code Here\n",
        "    s= ''.join(sorted(s))\n",
        "    return s\n",
        "\n",
        "assert sort_string(\"cab\") == \"abc\""
      ]
    },
    {
      "cell_type": "markdown",
      "metadata": {
        "id": "c52BnmdJ-Ss4"
      },
      "source": [
        "## Exercise 6"
      ]
    },
    {
      "cell_type": "markdown",
      "metadata": {
        "id": "H4ibLEjf-Ss4"
      },
      "source": [
        "Write a function that take a string of multiple words and returns the position of the word with most repeated letters"
      ]
    },
    {
      "cell_type": "code",
      "source": [
        "def wwmrl(s):\n",
        "\n",
        "  positionWord = 0 #this will be the position of the word with most repeated letters\n",
        "  nbrTimesRepeated = 0 #thiw will be the number of times a letter is repeated and it will has the biggest value\n",
        "  p=0\n",
        "    #we start by going word by word\n",
        "  for w in s:\n",
        "#we re going to use dictionaries, where the key is the letter and the value is how many times it is repeated in 's'\n",
        "    dic = {}\n",
        "#we are going now to see the letters of the words\n",
        "    for l in w:\n",
        "      if l in dic:\n",
        "        dic[l]=dic[l]+1 #we increment if the letter already exists in the dictionnarie\n",
        "      else:\n",
        "        dic[l]=1 #in case it's the first time we are seeing the letter\n",
        "      if dic[l]>nbrTimesRepeated:\n",
        "        nbrTimesRepeated=dic[l]\n",
        "        positionWord=p\n",
        "    p= p+1\n",
        "  return positionWord   \n",
        "\n",
        "\n",
        "assert wwmrl(['this', 'is', 'an', 'elementary', 'test', 'example']) == 3"
      ],
      "metadata": {
        "id": "Jv8pM3JAP-fR"
      },
      "execution_count": null,
      "outputs": []
    },
    {
      "cell_type": "markdown",
      "metadata": {
        "id": "1_9reR9Y-Ss4"
      },
      "source": [
        "## Exercise 7"
      ]
    },
    {
      "cell_type": "markdown",
      "metadata": {
        "id": "A8ddxag_-Ss4"
      },
      "source": [
        "1. Create a tuple\n",
        "2. Unpack the tuple in multiple variables"
      ]
    },
    {
      "cell_type": "code",
      "execution_count": null,
      "metadata": {
        "colab": {
          "base_uri": "https://localhost:8080/"
        },
        "id": "y1FwvdpL-Ss4",
        "outputId": "a4b3240f-1ff8-4a87-d6d8-031f353be364"
      },
      "outputs": [
        {
          "output_type": "stream",
          "name": "stdout",
          "text": [
            "555 Good 19\n"
          ]
        }
      ],
      "source": [
        "#Let's create tuple\n",
        "t=(555,'Good',19)\n",
        "#Now let's unpack it\n",
        "(id,text,number)=t\n",
        "print(id,text,number)"
      ]
    },
    {
      "cell_type": "markdown",
      "metadata": {
        "id": "EA8ThUQK-Ss4"
      },
      "source": [
        "## Exercise 8"
      ]
    },
    {
      "cell_type": "markdown",
      "metadata": {
        "id": "7DFEGvJt-Ss5"
      },
      "source": [
        "Write a Python program to sort a tuple by its float element.  \n",
        "Sample data: `[('item1', '12.20'), ('item2', '15.10'), ('item3', '24.5')]`  \n",
        "Expected Output: `[('item3', '24.5'), ('item2', '15.10'), ('item1', '12.20')]`"
      ]
    },
    {
      "cell_type": "code",
      "execution_count": null,
      "metadata": {
        "colab": {
          "base_uri": "https://localhost:8080/"
        },
        "id": "5JcFQMO4-Ss5",
        "outputId": "bc00d9ae-7f5b-419a-b91c-a4fc4116ea58"
      },
      "outputs": [
        {
          "output_type": "stream",
          "name": "stdout",
          "text": [
            "[('item3', '24.5'), ('item2', '15.10'), ('item1', '12.20')]\n"
          ]
        }
      ],
      "source": [
        "def sorTuple(t):\n",
        "  t.sort(key = lambda x: float(x[1]), reverse = True)\n",
        "  print(t)\n",
        "\n",
        "t = [('item1', '12.20'), ('item2', '15.10'), ('item3', '24.5')]\n",
        "sorTuple(t)\n"
      ]
    },
    {
      "cell_type": "markdown",
      "metadata": {
        "id": "AMPu6Wbv-Ss5"
      },
      "source": [
        "## Exercise 9"
      ]
    },
    {
      "cell_type": "markdown",
      "metadata": {
        "id": "kVFGZJuH-Ss5"
      },
      "source": [
        "Write a Python script to concatenate dictionaries to create a new one."
      ]
    },
    {
      "cell_type": "code",
      "execution_count": null,
      "metadata": {
        "colab": {
          "base_uri": "https://localhost:8080/"
        },
        "id": "Z8erUepX-Ss5",
        "outputId": "de5ccc72-f993-475f-8642-093e0ad078e0"
      },
      "outputs": [
        {
          "output_type": "stream",
          "name": "stdout",
          "text": [
            "{1: 10, 2: 20, 3: 30, 4: 40, 5: 50, 6: 60}\n"
          ]
        }
      ],
      "source": [
        "\"\"\"Sample Dictionary\"\"\"\n",
        "dic1={1:10, 2:20}\n",
        "dic2={3:30, 4:40}\n",
        "dic3={5:50,6:60}\n",
        "#we are going to generalize this for n dic\n",
        "#To do that we are going to use a list that contains the dictionaries\n",
        "def conDic(l):\n",
        "  dic4 = {}\n",
        "  for i in range(len(l)): \n",
        "    dic4.update(l[i])\n",
        "  print(dic4)\n",
        "\n",
        "l=[{1:10, 2:20},{3:30, 4:40},{5:50,6:60}]\n",
        "conDic(l)\n"
      ]
    },
    {
      "cell_type": "markdown",
      "metadata": {
        "id": "STq08VjO-Ss5"
      },
      "source": [
        "## Exercise 10"
      ]
    },
    {
      "cell_type": "markdown",
      "metadata": {
        "id": "HHlVrjwI-Ss5"
      },
      "source": [
        "Write a Python program to combine two dictionary adding values for common keys."
      ]
    },
    {
      "cell_type": "code",
      "execution_count": null,
      "metadata": {
        "colab": {
          "base_uri": "https://localhost:8080/"
        },
        "id": "TC6H5C5r-Ss5",
        "outputId": "cda24b5e-c871-4189-b930-f8e613852be4"
      },
      "outputs": [
        {
          "output_type": "stream",
          "name": "stdout",
          "text": [
            "{'a': 400, 'b': 400, 'd': 400}\n"
          ]
        }
      ],
      "source": [
        "d1 = {'a': 100, 'b': 200, 'c':300}\n",
        "d2 = {'a': 300, 'b': 200, 'd':400}\n",
        "#We are going to combine dic1 and dic2 and the changes will be in dic2\n",
        "def comb2dic(dic1,dic2):\n",
        "  #we are going to go over the keys of dic2 and see if it exists in dic1\n",
        "  for key in dic2:\n",
        "    #case where it exists we add them up\n",
        "    if key in dic1:\n",
        "        dic2[key] = dic2[key] + dic1[key]\n",
        "    else:#else we pass\n",
        "        pass      \n",
        "  print(dic2)\n",
        "\n",
        "comb2dic(d1,d2)\n",
        "\n"
      ]
    },
    {
      "cell_type": "markdown",
      "metadata": {
        "id": "haLtNEqG-Ss6"
      },
      "source": [
        "## Exercise 11"
      ]
    },
    {
      "cell_type": "markdown",
      "metadata": {
        "id": "yiKcH29Q-Ss6"
      },
      "source": [
        "Write a Python program to extract values from a given dictionaries and create a list of lists from those values.\n",
        "\n",
        "Original Dictionary:  \n",
        "`[{'student_id': 1, 'name': 'Jean Castro', 'class': 'V'}, {'student_id': 2, 'name': 'Lula Powell', 'class': 'V'}, {'student_id': 3, 'name': 'Brian Howell', 'class': 'VI'}, {'student_id': 4, 'name': 'Lynne Foster', 'class': 'VI'}, {'student_id': 5, 'name': 'Zachary Simon', 'class': 'VII'}]`  \n",
        "Output:  \n",
        "`[[1, 'Jean Castro', 'V'], [2, 'Lula Powell', 'V'], [3, 'Brian Howell', 'VI'], [4, 'Lynne Foster', 'VI'], [5, 'Zachary Simon', 'VII']]`"
      ]
    },
    {
      "cell_type": "code",
      "execution_count": null,
      "metadata": {
        "colab": {
          "base_uri": "https://localhost:8080/"
        },
        "id": "jRn00hfB-Ss6",
        "outputId": "26cf1e41-d55e-4de4-a84d-172239a40670"
      },
      "outputs": [
        {
          "output_type": "stream",
          "name": "stdout",
          "text": [
            "[[1, 'Jean Castro', 'V'], [2, 'Lula Powell', 'V'], [3, 'Brian Howell', 'VI'], [4, 'Lynne Foster', 'VI'], [5, 'Zachary Simon', 'VII']]\n"
          ]
        }
      ],
      "source": [
        "data = [{'student_id': 1, 'name': 'Jean Castro', 'class': 'V'}, {'student_id': 2, 'name': 'Lula Powell', 'class': 'V'}, {'student_id': 3, 'name': 'Brian Howell', 'class': 'VI'}, {'student_id': 4, 'name': 'Lynne Foster', 'class': 'VI'}, {'student_id': 5, 'name': 'Zachary Simon', 'class': 'VII'}]\n",
        "\n",
        "def dicTolis(d):\n",
        "  l=[]\n",
        "  for i in range(len(d)):\n",
        "    l.append(list(d[i].values()))\n",
        "  print(l)\n",
        "\n",
        "dicTolis(data)\n",
        "\n",
        "\n",
        "\n",
        "\n"
      ]
    },
    {
      "cell_type": "code",
      "source": [],
      "metadata": {
        "id": "07gzcknKuFn_"
      },
      "execution_count": null,
      "outputs": []
    },
    {
      "cell_type": "code",
      "source": [],
      "metadata": {
        "id": "YoIhcv9-uB_t"
      },
      "execution_count": null,
      "outputs": []
    }
  ],
  "metadata": {
    "kernelspec": {
      "display_name": "Python 3.10.8 64-bit",
      "language": "python",
      "name": "python3"
    },
    "language_info": {
      "codemirror_mode": {
        "name": "ipython",
        "version": 3
      },
      "file_extension": ".py",
      "mimetype": "text/x-python",
      "name": "python",
      "nbconvert_exporter": "python",
      "pygments_lexer": "ipython3",
      "version": "3.10.8"
    },
    "orig_nbformat": 4,
    "vscode": {
      "interpreter": {
        "hash": "568db8462f3162a9b88669aa9bd1328d904677c337ca4411478bd85a6a9a1cee"
      }
    },
    "colab": {
      "provenance": [],
      "collapsed_sections": [],
      "include_colab_link": true
    }
  },
  "nbformat": 4,
  "nbformat_minor": 0
}