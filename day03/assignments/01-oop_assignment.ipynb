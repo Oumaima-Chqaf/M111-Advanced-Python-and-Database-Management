{
  "cells": [
    {
      "cell_type": "markdown",
      "metadata": {
        "id": "E6MZXVLX8cvL"
      },
      "source": [
        "# Oriented Object Programming Exercices"
      ]
    },
    {
      "cell_type": "markdown",
      "metadata": {
        "id": "95jk_CIr8cvV"
      },
      "source": [
        "## Exercice 1:\n",
        "\n",
        "- consedering the following code\n",
        "\n",
        "```python\n",
        "import datetime # we will use this for date objects\n",
        "\n",
        "class Person:\n",
        "\n",
        "    def __init__(self, name, surname, birthdate, address, telephone, email):\n",
        "        self.name = name\n",
        "        self.surname = surname\n",
        "        self.birthdate = birthdate\n",
        "\n",
        "        self.address = address\n",
        "        self.telephone = telephone\n",
        "        self.email = email\n",
        "\n",
        "    def age(self):\n",
        "        today = datetime.date.today()\n",
        "        age = today.year - self.birthdate.year\n",
        "\n",
        "        if today < datetime.date(today.year, self.birthdate.month, self.birthdate.day):\n",
        "            age -= 1\n",
        "\n",
        "        return age\n",
        "\n",
        "person = Person(\n",
        "    \"Jane\",\n",
        "    \"Doe\",\n",
        "    datetime.date(1992, 3, 12), # year, month, day\n",
        "    \"No. 12 Short Street, Greenville\",\n",
        "    \"555 456 0987\",\n",
        "    \"jane.doe@example.com\"\n",
        ")\n",
        "\n",
        "print(person.name)\n",
        "print(person.email)\n",
        "print(person.age())\n",
        "```\n",
        "Explain what the following variables refer to, and their scope:\n",
        "1. Person\n",
        "2. person\n",
        "3. surname\n",
        "4. self\n",
        "5. age (the function name)\n",
        "6. age (the variable used inside the function)\n",
        "7. self.email\n",
        "8. person.email"
      ]
    },
    {
      "cell_type": "markdown",
      "metadata": {
        "id": "iRSbvzZJ8cvV"
      },
      "source": [
        "### write your answer here\n",
        "1.  Person is a Class. \n",
        "2.  person is an instance of the class Person.  \n",
        "3.  surname is an attribute of the Class Person.  \n",
        "4.  self is a refrence to the current instance of the class.\n",
        "5.  age is a method of the class Person.\n",
        "6.  age is a localvariable.\n",
        "7.  self.email refers to the variable email of the given class.\n",
        "8.  person.email refers to the email of the instance person of the class Person."
      ]
    },
    {
      "cell_type": "markdown",
      "metadata": {
        "id": "ba_iGNwM8cvV"
      },
      "source": [
        "## Exercise 2 \n",
        "Create a Class with instance attributes. Write a Python program to create a Vehicle class with instance attributes: \n",
        " - max_speed\n",
        " - mileage "
      ]
    },
    {
      "cell_type": "code",
      "execution_count": null,
      "metadata": {
        "id": "Sv7N_THB8cvW"
      },
      "outputs": [],
      "source": [
        "# Your code here\n",
        "class Vehicle:\n",
        "\n",
        "    def __init__(self, name, max_speed, mileage):\n",
        "        self.name = name\n",
        "        self.max_speed = max_speed\n",
        "        self.mileage = mileage"
      ]
    },
    {
      "cell_type": "markdown",
      "metadata": {
        "id": "P_Ekpzei8cvW"
      },
      "source": [
        "## Exercice 3\n",
        "\n",
        "Create a Vehicle class without any variables and methods "
      ]
    },
    {
      "cell_type": "code",
      "execution_count": null,
      "metadata": {
        "id": "HK8AIw8P8cvW"
      },
      "outputs": [],
      "source": [
        "# Your code here\n",
        "class Vehicle:\n",
        "  pass"
      ]
    },
    {
      "cell_type": "markdown",
      "metadata": {
        "id": "irb98ko88cvX"
      },
      "source": [
        "## Exercice 4\n",
        "\n",
        "Create a child class Bus that will inherit all of the variables and methods of the Vehicle class\n",
        "- Desired output:\n",
        "```Python\n",
        "#> Vehicle Name: School Volvo Speed: 180 Mileage: 12\n",
        "```"
      ]
    },
    {
      "cell_type": "code",
      "execution_count": null,
      "metadata": {
        "id": "PsCpiJMY8cvX",
        "outputId": "dbd24d59-80db-4c06-b4dd-7f20be1fea7e",
        "colab": {
          "base_uri": "https://localhost:8080/"
        }
      },
      "outputs": [
        {
          "output_type": "stream",
          "name": "stdout",
          "text": [
            "Vehicle Name: School Volvo Speed: 180 Mileage: 12\n"
          ]
        }
      ],
      "source": [
        "# Your code here\n",
        "class Vehicle:\n",
        "\n",
        "    def __init__(self, name, max_speed, mileage):\n",
        "        self.name = name\n",
        "        self.max_speed = max_speed\n",
        "        self.mileage = mileage\n",
        "\n",
        "class Bus(Vehicle):\n",
        "    pass\n",
        "\n",
        "School_bus = Bus(\"School Volvo\", 180, 12)\n",
        "print(\"Vehicle Name:\", School_bus.name, \"Speed:\", School_bus.max_speed, \"Mileage:\", School_bus.mileage)"
      ]
    },
    {
      "cell_type": "markdown",
      "metadata": {
        "id": "XiKL1GUa8cvX"
      },
      "source": [
        "## Exercice 5 (Class Inheritance)\n",
        "\n",
        "- Input\n",
        "Create a Bus class that inherits from the Vehicle class. Give the capacity argument of `Bus.seating_capacity()` a default value of 50.\n",
        "\n",
        "Use the following code for your parent Vehicle class.\n",
        "```Python\n",
        "class Vehicle:\n",
        "    def __init__(self, name, max_speed, mileage):\n",
        "        self.name = name\n",
        "        self.max_speed = max_speed\n",
        "        self.mileage = mileage\n",
        "\n",
        "    def seating_capacity(self, capacity):\n",
        "        return f\"The seating capacity of a {self.name} is {capacity} passengers\"\n",
        "```\n",
        "- Desired output:\n",
        "```Python\n",
        "#> The seating capacity of a bus is 50 passengers\n",
        "```"
      ]
    },
    {
      "cell_type": "code",
      "execution_count": null,
      "metadata": {
        "id": "VI3ZcJEU8cvX",
        "outputId": "2fc63260-2ee1-4b4e-f742-25541ebcf3c2",
        "colab": {
          "base_uri": "https://localhost:8080/"
        }
      },
      "outputs": [
        {
          "output_type": "stream",
          "name": "stdout",
          "text": [
            "The seating capacity of a Bus is 50 passengers\n"
          ]
        }
      ],
      "source": [
        "# Your code here\n",
        "class Vehicle:\n",
        "    def __init__(self, name, max_speed, mileage):\n",
        "        self.name = name\n",
        "        self.max_speed = max_speed\n",
        "        self.mileage = mileage\n",
        "\n",
        "    def seating_capacity(self, capacity):\n",
        "        return f\"The seating capacity of a {self.name} is {capacity} passengers\"\n",
        "\n",
        "class Bus(Vehicle):\n",
        "    # assign default value to capacity\n",
        "    def seating_capacity(self, capacity=50):\n",
        "        return super().seating_capacity(capacity=50)\n",
        "\n",
        "School_bus = Bus(\"Bus\", 180, 12)\n",
        "print(School_bus.seating_capacity())"
      ]
    },
    {
      "cell_type": "markdown",
      "metadata": {
        "id": "aAd3XR8p8cvX"
      },
      "source": [
        "## Exercice 6\n",
        "\n",
        "Define a property that must have the same value for every class instance (object)\n",
        "\n",
        "Define a class attribute `\"color\"` with a default value white. I.e., Every Vehicle should be white.\n",
        "\n",
        "Use the following code for this exercise.\n",
        "\n",
        "```Python\n",
        "class Vehicle:\n",
        "\n",
        "    def __init__(self, name, max_speed, mileage):\n",
        "        self.name = name\n",
        "        self.max_speed = max_speed\n",
        "        self.mileage = mileage\n",
        "\n",
        "class Bus(Vehicle):\n",
        "    pass\n",
        "\n",
        "class Car(Vehicle):\n",
        "    pass\n",
        "```\n",
        "- Desiret output:\n",
        "```Python\n",
        "#> Color: White, Vehicle name: School Volvo, Speed: 180, Mileage: 12\n",
        "#> Color: White, Vehicle name: Audi Q5, Speed: 240, Mileage: 18\n",
        "```                "
      ]
    },
    {
      "cell_type": "code",
      "execution_count": null,
      "metadata": {
        "id": "uI-pPNVu8cvY",
        "outputId": "03f20e6a-59a9-4ba5-bfcd-b57737ef240b",
        "colab": {
          "base_uri": "https://localhost:8080/"
        }
      },
      "outputs": [
        {
          "output_type": "stream",
          "name": "stdout",
          "text": [
            "White School Volvo Speed: 180 Mileage: 12\n",
            "White Audi Q5 Speed: 240 Mileage: 18\n"
          ]
        }
      ],
      "source": [
        "# Your code here\n",
        "class Vehicle:\n",
        "    # Class attribute\n",
        "    color = \"White\"\n",
        "\n",
        "    def __init__(self, name, max_speed, mileage):\n",
        "        self.name = name\n",
        "        self.max_speed = max_speed\n",
        "        self.mileage = mileage\n",
        "\n",
        "class Bus(Vehicle):\n",
        "    pass\n",
        "\n",
        "class Car(Vehicle):\n",
        "    pass\n",
        "\n",
        "School_bus = Bus(\"School Volvo\", 180, 12)\n",
        "print(School_bus.color, School_bus.name, \"Speed:\", School_bus.max_speed, \"Mileage:\", School_bus.mileage)\n",
        "\n",
        "car = Car(\"Audi Q5\", 240, 18)\n",
        "print(car.color, car.name, \"Speed:\", car.max_speed, \"Mileage:\", car.mileage)"
      ]
    },
    {
      "cell_type": "markdown",
      "metadata": {
        "id": "5q5-tmnK8cvY"
      },
      "source": [
        "## Exercice 7  (Class Inheritance)\n",
        "- Input\n",
        "\n",
        "Create a Bus child class that inherits from the Vehicle class. The default fare charge of any vehicle is seating `capacity * 100`. If Vehicle is Bus instance, we need to add an extra 10% on full fare as a maintenance charge. So total fare for bus instance will become the `final amount = total fare + 10% of the total fare`.\n",
        "\n",
        "Note: The bus seating capacity is 50. so the final fare amount should be 5500. You need to override the fare() method of a Vehicle class in Bus class.\n",
        "\n",
        "Use the following code for your parent Vehicle class. We need to access the parent class from inside a method of a child class.\n",
        "```Python\n",
        "class Vehicle:\n",
        "    def __init__(self, name, mileage, capacity):\n",
        "        self.name = name\n",
        "        self.mileage = mileage\n",
        "        self.capacity = capacity\n",
        "\n",
        "    def fare(self):\n",
        "        return self.capacity * 100\n",
        "\n",
        "class Bus(Vehicle):\n",
        "    pass\n",
        "\n",
        "School_bus = Bus(\"School Volvo\", 12, 50)\n",
        "print(\"Total Bus fare is:\", School_bus.fare())\n",
        "```\n",
        "- Desired output:\n",
        "```Python\n",
        "#> Total Bus fare is: 5500.0\n",
        "```"
      ]
    },
    {
      "cell_type": "code",
      "execution_count": null,
      "metadata": {
        "id": "IU4vHTxt8cvY",
        "outputId": "2d85e169-5755-43ef-8670-37506a3a60bf",
        "colab": {
          "base_uri": "https://localhost:8080/"
        }
      },
      "outputs": [
        {
          "output_type": "stream",
          "name": "stdout",
          "text": [
            "Total Bus fare is: 5500.0\n"
          ]
        }
      ],
      "source": [
        "# Your code here\n",
        "class Vehicle:\n",
        "    def __init__(self, name, mileage, capacity):\n",
        "        self.name = name\n",
        "        self.mileage = mileage\n",
        "        self.capacity = capacity\n",
        "\n",
        "    def fare(self):\n",
        "        return self.capacity * 100\n",
        "\n",
        "class Bus(Vehicle):\n",
        "    def fare(self):\n",
        "        amount = super().fare()\n",
        "        amount += amount * 10 / 100\n",
        "        return amount\n",
        "\n",
        "School_bus = Bus(\"School Volvo\", 12, 50)\n",
        "print(\"Total Bus fare is:\", School_bus.fare())"
      ]
    },
    {
      "cell_type": "markdown",
      "metadata": {
        "id": "K8AMt6wD8cvY"
      },
      "source": [
        "## Exercice 8  (Check type of an object)\n",
        "\n",
        "Write a program to determine which class a given Bus object belongs to.\n",
        "- Input\n",
        "```Python\n",
        "class Vehicle:\n",
        "    def __init__(self, name, mileage, capacity):\n",
        "        self.name = name\n",
        "        self.mileage = mileage\n",
        "        self.capacity = capacity\n",
        "```\n",
        "```Python\n",
        "class Bus(Vehicle):\n",
        "    pass\n",
        "School_bus = Bus(\"School Volvo\", 12, 50)\n",
        "```\n"
      ]
    },
    {
      "cell_type": "code",
      "execution_count": null,
      "metadata": {
        "id": "50TcIuHE8cvY",
        "outputId": "81ed875b-3767-440b-b1b6-946f8972d4fe",
        "colab": {
          "base_uri": "https://localhost:8080/"
        }
      },
      "outputs": [
        {
          "output_type": "stream",
          "name": "stdout",
          "text": [
            "<class '__main__.Bus'>\n"
          ]
        }
      ],
      "source": [
        "# Your code here\n",
        "class Vehicle:\n",
        "    def __init__(self, name, mileage, capacity):\n",
        "        self.name = name\n",
        "        self.mileage = mileage\n",
        "        self.capacity = capacity\n",
        "\n",
        "class Bus(Vehicle):\n",
        "    pass\n",
        "\n",
        "School_bus = Bus(\"School Volvo\", 12, 50)\n",
        "\n",
        "# Python's built-in type()\n",
        "print(type(School_bus))"
      ]
    }
  ],
  "metadata": {
    "hide_input": false,
    "kernelspec": {
      "display_name": "Python 3",
      "language": "python",
      "name": "python3"
    },
    "language_info": {
      "codemirror_mode": {
        "name": "ipython",
        "version": 3
      },
      "file_extension": ".py",
      "mimetype": "text/x-python",
      "name": "python",
      "nbconvert_exporter": "python",
      "pygments_lexer": "ipython3",
      "version": "3.8.5"
    },
    "colab": {
      "provenance": []
    }
  },
  "nbformat": 4,
  "nbformat_minor": 0
}