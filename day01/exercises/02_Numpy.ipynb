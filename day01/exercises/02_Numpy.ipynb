{
  "cells": [
    {
      "cell_type": "markdown",
      "metadata": {
        "id": "view-in-github",
        "colab_type": "text"
      },
      "source": [
        "<a href=\"https://colab.research.google.com/github/Oumaima-Chqaf/M111-Advanced-Python-and-Database-Management/blob/main/day01/exercises/02_Numpy.ipynb\" target=\"_parent\"><img src=\"https://colab.research.google.com/assets/colab-badge.svg\" alt=\"Open In Colab\"/></a>"
      ]
    },
    {
      "cell_type": "markdown",
      "metadata": {
        "id": "LxZIuzXSvkDr"
      },
      "source": [
        "# Exercices for Numpy"
      ]
    },
    {
      "cell_type": "markdown",
      "metadata": {
        "id": "1gLMp4alvkD0"
      },
      "source": [
        "1- Import numpy as `np` and print the version number. "
      ]
    },
    {
      "cell_type": "code",
      "execution_count": null,
      "metadata": {
        "colab": {
          "base_uri": "https://localhost:8080/",
          "height": 36
        },
        "id": "_u-loq91vkD1",
        "outputId": "b702e986-8456-4ab0-aeb7-73ba9fa146ef"
      },
      "outputs": [
        {
          "output_type": "execute_result",
          "data": {
            "text/plain": [
              "'1.21.6'"
            ],
            "application/vnd.google.colaboratory.intrinsic+json": {
              "type": "string"
            }
          },
          "metadata": {},
          "execution_count": 1
        }
      ],
      "source": [
        "# Your code here\n",
        "import numpy as np\n",
        "np.__version__"
      ]
    },
    {
      "cell_type": "markdown",
      "metadata": {
        "id": "OFNhJFzvvkD3"
      },
      "source": [
        "2- Create a 1D array of numbers from 0 to 9 \n",
        "- Desired output:\n",
        "```Python\n",
        "#> array([0, 1, 2, 3, 4, 5, 6, 7, 8, 9])\n",
        "```"
      ]
    },
    {
      "cell_type": "code",
      "execution_count": null,
      "metadata": {
        "colab": {
          "base_uri": "https://localhost:8080/"
        },
        "id": "JI890fHSvkD4",
        "outputId": "ff455fd0-51ab-4a06-b588-91bfc3c487c7"
      },
      "outputs": [
        {
          "output_type": "execute_result",
          "data": {
            "text/plain": [
              "array([0, 1, 2, 3, 4, 5, 6, 7, 8])"
            ]
          },
          "metadata": {},
          "execution_count": 2
        }
      ],
      "source": [
        "# Your code here\n",
        "a=np.arange(0,9)\n",
        "a"
      ]
    },
    {
      "cell_type": "markdown",
      "metadata": {
        "id": "mYj9INU_vkD5"
      },
      "source": [
        "3- Create a 3×3 numpy array of all True’s\n",
        "- Desired output:\n",
        "```Python\n",
        "#> array([[ True,  True,  True],\n",
        "#>        [ True,  True,  True],\n",
        "#>        [ True,  True,  True]], dtype=bool)\n",
        "```"
      ]
    },
    {
      "cell_type": "code",
      "execution_count": null,
      "metadata": {
        "colab": {
          "base_uri": "https://localhost:8080/"
        },
        "id": "f2HnWvSFvkD6",
        "outputId": "99186765-2b26-4f99-8dec-636662e59d10"
      },
      "outputs": [
        {
          "output_type": "execute_result",
          "data": {
            "text/plain": [
              "array([[ True,  True,  True],\n",
              "       [ True,  True,  True],\n",
              "       [ True,  True,  True]])"
            ]
          },
          "metadata": {},
          "execution_count": 9
        }
      ],
      "source": [
        "# Your code here\n",
        "a=np.full((3,3),True,dtype= bool)\n",
        "a\n"
      ]
    },
    {
      "cell_type": "markdown",
      "metadata": {
        "id": "Hr89RFAwvkD7"
      },
      "source": [
        "4- Extract all odd numbers from `arr` \n",
        "- Input:\n",
        "```Python\n",
        "#> arr = np.array([0, 1, 2, 3, 4, 5, 6, 7, 8, 9])\n",
        "```\n",
        "- Desired output:\n",
        "```Python\n",
        "#> array([1, 3, 5, 7, 9])\n",
        "```"
      ]
    },
    {
      "cell_type": "code",
      "execution_count": null,
      "metadata": {
        "colab": {
          "base_uri": "https://localhost:8080/"
        },
        "id": "saSoo1qRvkD9",
        "outputId": "cb740f71-638d-463d-9108-2f852ab20220"
      },
      "outputs": [
        {
          "output_type": "stream",
          "name": "stdout",
          "text": [
            "[1, 3, 5, 7, 9]\n"
          ]
        }
      ],
      "source": [
        "# Your code here\n",
        "def extOddNum(a):\n",
        "  #let's creat a list first\n",
        "  arr=[]\n",
        "  for i in range(len(a)):\n",
        "    if a[i]%2 != 0:\n",
        "      #let's test first if it's an odd number\n",
        "      arr.append(a[i])\n",
        "  print(arr)\n",
        "arr = np.array([0, 1, 2, 3, 4, 5, 6, 7, 8, 9])\n",
        "extOddNum(arr)\n"
      ]
    },
    {
      "cell_type": "markdown",
      "metadata": {
        "id": "YZh2Z2tmvkD-"
      },
      "source": [
        "5- Replace all odd numbers in arr with -1\n",
        "- Input:\n",
        "```Python\n",
        "#> arr = np.array([0, 1, 2, 3, 4, 5, 6, 7, 8, 9])\n",
        "```\n",
        "- Desired output:\n",
        "```Python\n",
        "#>  array([ 0, -1,  2, -1,  4, -1,  6, -1,  8, -1])\n",
        "```"
      ]
    },
    {
      "cell_type": "code",
      "execution_count": null,
      "metadata": {
        "colab": {
          "base_uri": "https://localhost:8080/"
        },
        "id": "mELcKGN_vkEA",
        "outputId": "b949f4fc-10f9-4574-baa5-04b21c0dfe3a"
      },
      "outputs": [
        {
          "output_type": "stream",
          "name": "stdout",
          "text": [
            "[0, 1, -1, 3, -1, 5, -1, 7, -1, 9]\n"
          ]
        }
      ],
      "source": [
        "# Your code here\n",
        "def remOddNum(a):\n",
        "  #let's creat a list first\n",
        "  arr=[]\n",
        "  for i in range(len(a)):\n",
        "    if a[i]%2 == 0 and a[i] !=0:\n",
        "      #let's test first if it's an even number to remplace it\n",
        "      arr.append(-1)\n",
        "    else:\n",
        "      arr.append(a[i])\n",
        "  print(arr)\n",
        "arr = np.array([0, 1, 2, 3, 4, 5, 6, 7, 8, 9])\n",
        "remOddNum(arr)\n"
      ]
    },
    {
      "cell_type": "markdown",
      "metadata": {
        "id": "9P7vqKjhvkEA"
      },
      "source": [
        "6- Replace all odd numbers in arr with -1 without changing `arr` \n",
        "- Input:\n",
        "```Python\n",
        "#> arr = np.array([0, 1, 2, 3, 4, 5, 6, 7, 8, 9])\n",
        "```\n",
        "- Desired output:\n",
        "```Python\n",
        "out\n",
        "#>  array([ 0, -1,  2, -1,  4, -1,  6, -1,  8, -1])\n",
        "arr\n",
        "#>  array([0, 1, 2, 3, 4, 5, 6, 7, 8, 9])\n",
        "```"
      ]
    },
    {
      "cell_type": "code",
      "execution_count": null,
      "metadata": {
        "colab": {
          "base_uri": "https://localhost:8080/"
        },
        "id": "0jPyO-P7vkEB",
        "outputId": "0e400b8b-3a63-4894-fc4f-8a7d96afccb3"
      },
      "outputs": [
        {
          "output_type": "stream",
          "name": "stdout",
          "text": [
            "[ 0  1 -1  3 -1  5 -1  7 -1  9]\n"
          ]
        }
      ],
      "source": [
        "# Your code here\n",
        "def remOddNum2(arr):\n",
        "  #let's creat a list first\n",
        "  for i in range(len(arr)):\n",
        "    if arr[i]%2 == 0 and arr[i] !=0:\n",
        "      #let's test first if it's an even number to remplace it without using another \n",
        "      arr[i]=-1\n",
        "  print(arr)\n",
        "arr = np.array([0, 1, 2, 3, 4, 5, 6, 7, 8, 9])\n",
        "remOddNum2(arr)"
      ]
    },
    {
      "cell_type": "markdown",
      "metadata": {
        "id": "gizTzLX2vkEC"
      },
      "source": [
        "7- Convert a 1D array to a 2D array with 2 rows\n",
        "- Input:\n",
        "```Python\n",
        "#> arr = np.array([0, 1, 2, 3, 4, 5, 6, 7, 8, 9])\n",
        "```\n",
        "- Desired output:\n",
        "```Python\n",
        "#> array([[0, 1, 2, 3, 4],\n",
        "#>        [5, 6, 7, 8, 9]])\n",
        "```"
      ]
    },
    {
      "cell_type": "code",
      "execution_count": null,
      "metadata": {
        "colab": {
          "base_uri": "https://localhost:8080/"
        },
        "id": "l41p0HitvkED",
        "outputId": "04a1bfda-d277-4172-9145-7f877b3662ec"
      },
      "outputs": [
        {
          "output_type": "stream",
          "name": "stdout",
          "text": [
            "[[0 1 2 3 4]\n",
            " [5 6 7 8 9]]\n"
          ]
        }
      ],
      "source": [
        "# Your code here\n",
        "def oneDtotwoD(a):\n",
        "  a=arr.reshape(2,-1)\n",
        "  print(a)\n",
        "arr = np.array([0, 1, 2, 3, 4, 5, 6, 7, 8, 9])\n",
        "oneDtotwoD(arr)"
      ]
    },
    {
      "cell_type": "markdown",
      "metadata": {
        "id": "AlqF9QsEvkED"
      },
      "source": [
        "8- Stack arrays `a` and `b` vertically \n",
        "- Input\n",
        "```Python\n",
        "a = np.arange(10).reshape(2,-1)\n",
        "b = np.repeat(1, 10).reshape(2,-1)\n",
        "```\n",
        "- Desired output:\n",
        "```Python\n",
        "#> array([[0, 1, 2, 3, 4],\n",
        "#>        [5, 6, 7, 8, 9],\n",
        "#>        [1, 1, 1, 1, 1],\n",
        "#>        [1, 1, 1, 1, 1]])\n",
        "```"
      ]
    },
    {
      "cell_type": "code",
      "execution_count": null,
      "metadata": {
        "colab": {
          "base_uri": "https://localhost:8080/"
        },
        "id": "LDD-EDwGvkEE",
        "outputId": "7b9e4474-a126-4252-cf4e-79ac4a02efbc"
      },
      "outputs": [
        {
          "output_type": "execute_result",
          "data": {
            "text/plain": [
              "array([[0, 1, 2, 3, 4],\n",
              "       [5, 6, 7, 8, 9],\n",
              "       [1, 1, 1, 1, 1],\n",
              "       [1, 1, 1, 1, 1]])"
            ]
          },
          "metadata": {},
          "execution_count": 23
        }
      ],
      "source": [
        "# Your code here\n",
        "a = np.arange(10).reshape(2,-1)\n",
        "b = np.repeat(1, 10).reshape(2,-1)\n",
        "np.vstack((a,b))\n"
      ]
    },
    {
      "cell_type": "markdown",
      "metadata": {
        "id": "GOScJ0cEvkEF"
      },
      "source": [
        "9- Stack the arrays a and b horizontally.\n",
        "- Input\n",
        "```Python\n",
        "a = np.arange(10).reshape(2,-1)\n",
        "b = np.repeat(1, 10).reshape(2,-1)\n",
        "```\n",
        "- Desired output:\n",
        "```Python\n",
        "#> array([[0, 1, 2, 3, 4, 1, 1, 1, 1, 1],\n",
        "#>        [5, 6, 7, 8, 9, 1, 1, 1, 1, 1]])\n",
        "```"
      ]
    },
    {
      "cell_type": "code",
      "execution_count": null,
      "metadata": {
        "colab": {
          "base_uri": "https://localhost:8080/"
        },
        "id": "ECXq1s_DvkEG",
        "outputId": "836d9366-3ad8-4bb6-e38f-f2bf3f767082"
      },
      "outputs": [
        {
          "output_type": "execute_result",
          "data": {
            "text/plain": [
              "array([[0, 1, 2, 3, 4, 1, 1, 1, 1, 1],\n",
              "       [5, 6, 7, 8, 9, 1, 1, 1, 1, 1]])"
            ]
          },
          "metadata": {},
          "execution_count": 24
        }
      ],
      "source": [
        "# Your code here\n",
        "a = np.arange(10).reshape(2,-1)\n",
        "b = np.repeat(1, 10).reshape(2,-1)\n",
        "np.hstack((a,b))\n"
      ]
    },
    {
      "cell_type": "markdown",
      "metadata": {
        "id": "SnPljRfzvkEG"
      },
      "source": [
        "10- Get the common items between `a` and `b` \n",
        "- Input\n",
        "```Python\n",
        "a = np.array([1,2,3,4,5])\n",
        "b = np.array([5,6,7,8,9])\n",
        "```\n",
        "- Desired output:\n",
        "```Python\n",
        "#> array([2, 4])\n",
        "```"
      ]
    },
    {
      "cell_type": "code",
      "execution_count": null,
      "metadata": {
        "colab": {
          "base_uri": "https://localhost:8080/"
        },
        "id": "jkgBgj5CvkEH",
        "outputId": "1fa3aa62-dab1-43e8-a59e-76d1b6ecc935"
      },
      "outputs": [
        {
          "output_type": "execute_result",
          "data": {
            "text/plain": [
              "array([5])"
            ]
          },
          "metadata": {},
          "execution_count": 25
        }
      ],
      "source": [
        "# Your code here\n",
        "a = np.array([1,2,3,4,5])\n",
        "b = np.array([5,6,7,8,9])\n",
        "c=np.intersect1d(a,b)\n",
        "c\n"
      ]
    },
    {
      "cell_type": "markdown",
      "metadata": {
        "id": "fGbDWuvgvkEH"
      },
      "source": [
        "11- From array `a` remove all items present in array `b` \n",
        "- Input\n",
        "```Python\n",
        "a = np.array([1,2,3,4,5])\n",
        "b = np.array([5,6,7,8,9])\n",
        "```\n",
        "- Desired output:\n",
        "```Python\n",
        "#> array([1,2,3,4])\n",
        "```"
      ]
    },
    {
      "cell_type": "code",
      "execution_count": null,
      "metadata": {
        "colab": {
          "base_uri": "https://localhost:8080/"
        },
        "id": "5xti4S9xvkEI",
        "outputId": "24e745a7-b75f-47b1-a5ee-5bfc5b8f1730"
      },
      "outputs": [
        {
          "output_type": "stream",
          "name": "stdout",
          "text": [
            "[1, 2, 3, 4]\n"
          ]
        }
      ],
      "source": [
        "# Your code here\n",
        "def remove(a,b):\n",
        "  c=[]\n",
        "  for i in range(len(a)):\n",
        "    n=0\n",
        "    for j in range(len(b)):\n",
        "      if a[i] == b[j]:\n",
        "        n=n+1\n",
        "    if n == 0:\n",
        "      c.append(a[i])\n",
        "  print(c)\n",
        "\n",
        "a = np.array([1,2,3,4,5])\n",
        "b = np.array([5,6,7,8,9])\n",
        "remove(a,b)\n",
        "  "
      ]
    },
    {
      "cell_type": "markdown",
      "metadata": {
        "id": "lf5CCUQpvkEJ"
      },
      "source": [
        "12- Get the positions where elements of `a` and `b` match\n",
        "- Input\n",
        "```Python\n",
        "a = np.array([1,2,3,2,3,4,3,4,5,6])\n",
        "b = np.array([7,2,10,2,7,4,9,4,9,8])\n",
        "```\n",
        "- Desired output:\n",
        "```Python\n",
        "#> (array([1, 3, 5, 7]),)\n",
        "```"
      ]
    },
    {
      "cell_type": "code",
      "execution_count": null,
      "metadata": {
        "colab": {
          "base_uri": "https://localhost:8080/"
        },
        "id": "F0iHeO04vkEK",
        "outputId": "eb0ec599-682d-4ed4-b9c2-0ff87530ae42"
      },
      "outputs": [
        {
          "output_type": "execute_result",
          "data": {
            "text/plain": [
              "(array([1, 3, 5, 7]),)"
            ]
          },
          "metadata": {},
          "execution_count": 32
        }
      ],
      "source": [
        "# Your code here\n",
        "def positionComElem(a,b):\n",
        "  c=[]\n",
        "  for i in range(len(a)):\n",
        "    n=0\n",
        "    for j in range(len(b)):\n",
        "      if a[i] == b[j]:\n",
        "        n=n+1\n",
        "    if n!=0:\n",
        "      c.append(i)\n",
        "  print(c)\n",
        "\n",
        "a = np.array([1,2,3,2,3,4,3,4,5,6])\n",
        "b = np.array([7,2,10,2,7,4,9,4,9,8])\n",
        "positionComElem(a,b)\n",
        "\n",
        "#or simply we can use np.where(a==b)"
      ]
    },
    {
      "cell_type": "markdown",
      "metadata": {
        "id": "2qCIGm1GvkEK"
      },
      "source": [
        "13- Get all items between 5 and 10 from `a`\n",
        "- Input\n",
        "```Python\n",
        "a = np.array([2, 6, 1, 9, 10, 3, 27])\n",
        "```\n",
        "- Desired output:\n",
        "```Python\n",
        "#> (array([6, 9, 10]),)\n",
        "```"
      ]
    },
    {
      "cell_type": "code",
      "execution_count": null,
      "metadata": {
        "colab": {
          "base_uri": "https://localhost:8080/"
        },
        "id": "UhvWSR_ivkEL",
        "outputId": "80d1117c-ce49-4c9c-d910-737595bf1c65"
      },
      "outputs": [
        {
          "output_type": "execute_result",
          "data": {
            "text/plain": [
              "array([ 6,  9, 10])"
            ]
          },
          "metadata": {},
          "execution_count": 38
        }
      ],
      "source": [
        "# Your code here\n",
        "a = np.array([2, 6, 1, 9, 10, 3, 27])\n",
        "\n",
        "a[np.where((a<=10) & (a>=5))]"
      ]
    },
    {
      "cell_type": "markdown",
      "metadata": {
        "id": "BFQTzwOTvkEL"
      },
      "source": [
        "14- Convert the function `maxx` that works on two scalars, to work on two arrays\n",
        "- Input\n",
        "```Python\n",
        "def maxx(x, y):\n",
        "    \"\"\"Get the maximum of two items\"\"\"\n",
        "    if x >= y:\n",
        "        return x\n",
        "    else:\n",
        "        return y\n",
        "```\n",
        "```Python\n",
        "maxx(1, 5)\n",
        "#> 5\n",
        "```\n",
        "\n",
        "- Desired output:\n",
        "\n",
        "```Python\n",
        "a = np.array([5, 7, 9, 8, 6, 4, 5])\n",
        "b = np.array([6, 3, 4, 8, 9, 7, 1])\n",
        "pair_max(a, b)\n",
        "#> array([ 6.,  7.,  9.,  8.,  9.,  7.,  5.])\n",
        "```"
      ]
    },
    {
      "cell_type": "code",
      "execution_count": null,
      "metadata": {
        "colab": {
          "base_uri": "https://localhost:8080/"
        },
        "id": "xqfWFsPfvkEM",
        "outputId": "9415e00c-a07a-4552-bf67-9f43f192ddbc"
      },
      "outputs": [
        {
          "output_type": "execute_result",
          "data": {
            "text/plain": [
              "[6, 7, 9, 8, 9, 7, 5]"
            ]
          },
          "metadata": {},
          "execution_count": 42
        }
      ],
      "source": [
        "# Your code here\n",
        "def maxx(x, y):\n",
        "    \"\"\"Get the maximum of two items\"\"\"\n",
        "    if x >= y:\n",
        "        return x\n",
        "    else:\n",
        "        return y\n",
        "a = np.array([5, 7, 9, 8, 6, 4, 5])\n",
        "b = np.array([6, 3, 4, 8, 9, 7, 1])\n",
        "c=[]\n",
        "for i in range(len(a)):\n",
        "  m=maxx(a[i],b[i])\n",
        "  c.append(m)\n",
        "c\n",
        "\n",
        "    "
      ]
    },
    {
      "cell_type": "markdown",
      "metadata": {
        "id": "WEDxfkIXvkEM"
      },
      "source": [
        "15- Reverse the rows of a 2D array `arr`\n",
        "- Input\n",
        "```Python\n",
        "arr = np.arange(9).reshape(3,3)\n",
        "```\n",
        "- Desired output:\n",
        "```Python\n",
        "#> array([[6, 7, 8],\n",
        "#>       [3, 4, 5],\n",
        "#>       [0, 1, 2]])\n",
        "```"
      ]
    },
    {
      "cell_type": "code",
      "execution_count": null,
      "metadata": {
        "colab": {
          "base_uri": "https://localhost:8080/"
        },
        "id": "pcbDFrEXvkEN",
        "outputId": "3185d4cc-6805-44c2-f08d-6dd4faff9e19"
      },
      "outputs": [
        {
          "output_type": "stream",
          "name": "stdout",
          "text": [
            "[[0 1 2]\n",
            " [3 4 5]\n",
            " [6 7 8]]\n",
            "[[6 7 8]\n",
            " [3 4 5]\n",
            " [0 1 2]]\n"
          ]
        }
      ],
      "source": [
        "arr = np.arange(9).reshape(3,3)\n",
        "print(arr)\n",
        "print(arr[::-1])\n",
        "#using slicing"
      ]
    },
    {
      "cell_type": "markdown",
      "metadata": {
        "id": "IGrezdUPvkEN"
      },
      "source": [
        "16- Reverse the columns of a 2D array `arr`\n",
        "- Input\n",
        "```Python\n",
        "arr = np.arange(9).reshape(3,3)\n",
        "```\n",
        "- Desired output:\n",
        "```Python\n",
        "#> array([[6, 7, 8],\n",
        "#>       [3, 4, 5],\n",
        "#>       [0, 1, 2]]\n",
        "```"
      ]
    },
    {
      "cell_type": "code",
      "execution_count": null,
      "metadata": {
        "colab": {
          "base_uri": "https://localhost:8080/"
        },
        "id": "6Qvg1DJovkEO",
        "outputId": "502800c7-55ed-40e0-ff1b-8f9df6f4aa46"
      },
      "outputs": [
        {
          "output_type": "stream",
          "name": "stdout",
          "text": [
            "[[0 1 2]\n",
            " [3 4 5]\n",
            " [6 7 8]]\n",
            "[[2 1 0]\n",
            " [5 4 3]\n",
            " [8 7 6]]\n"
          ]
        }
      ],
      "source": [
        "# Your code here\n",
        "arr = np.arange(9).reshape(3,3)\n",
        "print(arr)\n",
        "print(np.fliplr(arr))\n"
      ]
    },
    {
      "cell_type": "markdown",
      "metadata": {
        "id": "K1EVDWSqvkEO"
      },
      "source": [
        "17- Create a 2D array of shape 5×3 to contain random decimal numbers between 5 and 10 (use `np.random.seed()` to generate the same random output).\n",
        "- Desired output: (for seed number equal 10)\n",
        "```Python\n",
        "#> array([[6.15037787, 9.68381843, 5.81660184],\n",
        "#>       [6.33607158, 8.89081653, 9.19812181],\n",
        "#>       [6.03061665, 5.87761494, 6.72743551],\n",
        "#>       [7.54088093, 5.13145815, 6.41366737],\n",
        "#>       [5.77872881, 7.58390137, 5.18263144]])\n",
        "```"
      ]
    },
    {
      "cell_type": "code",
      "execution_count": null,
      "metadata": {
        "colab": {
          "base_uri": "https://localhost:8080/"
        },
        "id": "pe6gSdDyvkEQ",
        "outputId": "92b6b8e8-1156-4191-9ce8-2db0cd3a358e"
      },
      "outputs": [
        {
          "output_type": "execute_result",
          "data": {
            "text/plain": [
              "array([[6.15 , 9.684, 5.817],\n",
              "       [6.336, 8.891, 9.198],\n",
              "       [6.031, 5.878, 6.727],\n",
              "       [7.541, 5.131, 6.414],\n",
              "       [5.779, 7.584, 5.183]])"
            ]
          },
          "metadata": {},
          "execution_count": 57
        }
      ],
      "source": [
        "# Your code here\n",
        "\n",
        "np.random.seed(10)\n",
        "np.random.randint(low=5,high=10,size=(5,3))+np.random.random((5,3))\n"
      ]
    },
    {
      "cell_type": "markdown",
      "metadata": {
        "id": "W3XsMQJ4vkER"
      },
      "source": [
        "18- Print or show only 3 decimal places of the numpy array `rand_arr`\n",
        "- Input\n",
        "```Python\n",
        "rand_arr = np.random.random((5,3))\n",
        "```\n",
        "- Desired output:\n",
        "```Python\n",
        "rand_arr[:4]\n",
        "#> array([[ 0.443,  0.109,  0.97 ],\n",
        "#>        [ 0.388,  0.447,  0.191],\n",
        "#>        [ 0.891,  0.474,  0.212],\n",
        "#>        [ 0.609,  0.518,  0.403]])\n",
        "```"
      ]
    },
    {
      "cell_type": "code",
      "execution_count": null,
      "metadata": {
        "colab": {
          "base_uri": "https://localhost:8080/"
        },
        "id": "dj7xH86UvkER",
        "outputId": "2557338c-f4da-4cd3-8faa-9080b8afd29d"
      },
      "outputs": [
        {
          "output_type": "stream",
          "name": "stdout",
          "text": [
            "[[0.012 0.982 0.213]\n",
            " [0.035 0.26  0.861]\n",
            " [0.142 0.884 0.978]\n",
            " [0.955 0.624 0.336]]\n"
          ]
        }
      ],
      "source": [
        "# Your code here\n",
        "rand_arr = np.random.random((5,3))\n",
        "np.set_printoptions(precision=3)\n",
        "print(rand_arr[:4])\n",
        "\n",
        "\n"
      ]
    },
    {
      "cell_type": "markdown",
      "metadata": {
        "id": "Mw6AlekhvkER"
      },
      "source": [
        "19- Pretty print `rand_arr` by suppressing the scientific notation (like 1e10) \n",
        "- Input\n",
        "\n",
        "```Python\n",
        "# Create the random array\n",
        "np.random.seed(100)\n",
        "rand_arr = np.random.random([3,3])/1e3\n",
        "```\n",
        "```Python\n",
        "rand_arr\n",
        "\n",
        "#> array([[  5.434049e-04,   2.783694e-04,   4.245176e-04],\n",
        "#>        [  8.447761e-04,   4.718856e-06,   1.215691e-04],\n",
        "#>        [  6.707491e-04,   8.258528e-04,   1.367066e-04]])\n",
        "```\n",
        "\n",
        "- Desired output:\n",
        "```python\n",
        "#> array([[ 0.000543,  0.000278,  0.000425],\n",
        "#>        [ 0.000845,  0.000005,  0.000122],\n",
        "#>        [ 0.000671,  0.000826,  0.000137]])\n",
        "```"
      ]
    },
    {
      "cell_type": "code",
      "execution_count": null,
      "metadata": {
        "colab": {
          "base_uri": "https://localhost:8080/"
        },
        "id": "rRFGKI_yvkES",
        "outputId": "025d523b-a4e1-405a-aba4-4dbc2d6c1b19"
      },
      "outputs": [
        {
          "output_type": "stream",
          "name": "stdout",
          "text": [
            "[[0.001 0.    0.   ]\n",
            " [0.001 0.    0.   ]\n",
            " [0.001 0.001 0.   ]]\n",
            "[[0.000543 0.000278 0.000425]\n",
            " [0.000845 0.000005 0.000122]\n",
            " [0.000671 0.000826 0.000137]]\n"
          ]
        }
      ],
      "source": [
        "# Your code here\n",
        "np.random.seed(100)\n",
        "rand_arr = np.random.random([3,3])/1e3\n",
        "print(rand_arr)\n",
        "np.set_printoptions(suppress=True,precision=6)\n",
        "print(rand_arr)"
      ]
    },
    {
      "cell_type": "markdown",
      "metadata": {
        "id": "8MO73_0kvkES"
      },
      "source": [
        "20- Limit the number of items printed in python numpy array a to a maximum of 6 elements.\n",
        "- Input:\n",
        "```Python\n",
        "a = np.arange(15)\n",
        "#> array([ 0,  1,  2,  3,  4,  5,  6,  7,  8,  9, 10, 11, 12, 13, 14])\n",
        "```\n",
        "- Desired output:\n",
        "```Python\n",
        "#> array([ 0,  1,  2, ..., 12, 13, 14])\n",
        "```"
      ]
    },
    {
      "cell_type": "code",
      "execution_count": null,
      "metadata": {
        "colab": {
          "base_uri": "https://localhost:8080/"
        },
        "id": "ybXGCMJSvkES",
        "outputId": "c390235f-1508-4230-f784-05494dae4122"
      },
      "outputs": [
        {
          "output_type": "execute_result",
          "data": {
            "text/plain": [
              "array([ 0,  1,  2, ..., 12, 13, 14])"
            ]
          },
          "metadata": {},
          "execution_count": 83
        }
      ],
      "source": [
        "# Your code here\n",
        "a = np.arange(15)\n",
        "np.set_printoptions(threshold=6)\n",
        "a"
      ]
    },
    {
      "cell_type": "markdown",
      "metadata": {
        "id": "6oIm_9E6vkES"
      },
      "source": [
        "21- Convert the 1D iris to 2D array iris_2d by omitting the species text field.\n",
        "- Input:\n",
        "```Python\n",
        "url = 'https://archive.ics.uci.edu/ml/machine-learning-databases/iris/iris.data'\n",
        "iris_1d = np.genfromtxt(url, delimiter=',', dtype=None)\n",
        "```\n",
        "- Desired output:\n",
        "```Python\n",
        "#> array([[ 5.1,  3.5,  1.4,  0.2],\n",
        "#>        [ 4.9,  3. ,  1.4,  0.2],\n",
        "#>        [ 4.7,  3.2,  1.3,  0.2],\n",
        "#>        [ 4.6,  3.1,  1.5,  0.2]])\n",
        "```"
      ]
    },
    {
      "cell_type": "code",
      "execution_count": null,
      "metadata": {
        "colab": {
          "base_uri": "https://localhost:8080/"
        },
        "id": "YL2W5eZIvkES",
        "outputId": "523aee01-d588-4860-fc38-dd37b0abb34b"
      },
      "outputs": [
        {
          "output_type": "stream",
          "name": "stderr",
          "text": [
            "/usr/local/lib/python3.7/dist-packages/ipykernel_launcher.py:3: VisibleDeprecationWarning: Reading unicode strings without specifying the encoding argument is deprecated. Set the encoding, use None for the system default.\n",
            "  This is separate from the ipykernel package so we can avoid doing imports until\n"
          ]
        },
        {
          "output_type": "execute_result",
          "data": {
            "text/plain": [
              "array([[5.1, 3.5, 1.4, 0.2],\n",
              "       [4.9, 3. , 1.4, 0.2],\n",
              "       [4.7, 3.2, 1.3, 0.2],\n",
              "       ...,\n",
              "       [6.5, 3. , 5.2, 2. ],\n",
              "       [6.2, 3.4, 5.4, 2.3],\n",
              "       [5.9, 3. , 5.1, 1.8]])"
            ]
          },
          "metadata": {},
          "execution_count": 84
        }
      ],
      "source": [
        "# Your code here\n",
        "url = 'https://archive.ics.uci.edu/ml/machine-learning-databases/iris/iris.data'\n",
        "iris_1d = np.genfromtxt(url, delimiter=',', dtype=None)\n",
        "iris_2d = np.array([row.tolist()[:4] for row in iris_1d]) \n",
        "iris_2d"
      ]
    },
    {
      "cell_type": "markdown",
      "metadata": {
        "id": "2FGmv30-vkET"
      },
      "source": [
        "22- Find the mean, median, standard deviation of iris's sepallength (1st column)\n",
        "- Input:\n",
        "```Python\n",
        "url = 'https://archive.ics.uci.edu/ml/machine-learning-databases/iris/iris.data'\n",
        "iris = np.genfromtxt(url, delimiter=',', dtype='object')\n",
        "```\n",
        "- Desired output:\n",
        "```Python\n",
        "print(mean, median, sd)\n",
        "#> 5.84333333333 5.8 0.825301291785\n",
        "```"
      ]
    },
    {
      "cell_type": "code",
      "execution_count": null,
      "metadata": {
        "colab": {
          "base_uri": "https://localhost:8080/"
        },
        "id": "vlZ4MWTnvkET",
        "outputId": "e8511f69-e9de-4d7d-e936-5160b7e2e4fa"
      },
      "outputs": [
        {
          "output_type": "stream",
          "name": "stdout",
          "text": [
            "5.843333333333334   5.8   0.8253012917851409\n"
          ]
        }
      ],
      "source": [
        "# Your code here\n",
        "url = 'https://archive.ics.uci.edu/ml/machine-learning-databases/iris/iris.data'\n",
        "iris = np.genfromtxt(url, delimiter=',', dtype='float', usecols=[0])\n",
        "mn=np.mean(iris)\n",
        "mdn=np.median(iris)\n",
        "sd=np.std(iris)\n",
        "print(mn,\" \",mdn,\" \",sd)"
      ]
    },
    {
      "cell_type": "markdown",
      "metadata": {
        "id": "LV2Kw_UtvkET"
      },
      "source": [
        "23- Create a normalized form of iris‘s sepallength whose values range exactly between 0 and 1 so that the minimum has value 0 and maximum has value 1.\n",
        "- Input:\n",
        "```Python\n",
        "url = 'https://archive.ics.uci.edu/ml/machine-learning-databases/iris/iris.data'\n",
        "iris = np.genfromtxt(url, delimiter=',', dtype='object')\n",
        "```\n",
        "- Desired output:\n",
        "```Python\n",
        "print(S)\n",
        "#> [ 0.222  0.167  0.111  0.083  0.194  0.306  0.083  0.194  0.028  0.167\n",
        "#>   0.306  0.139  0.139  0.     0.417  0.389  0.306  0.222  0.389  0.222\n",
        "#>   0.306  0.222  0.083  0.222  0.139  0.194  0.194  0.25   0.25   0.111\n",
        "#>   0.139  0.306  0.25   0.333  0.167  0.194  0.333  0.167  0.028  0.222\n",
        "#>   0.194  0.056  0.028  0.194  0.222  0.139  0.222  0.083  0.278  0.194\n",
        "#>   0.75   0.583  0.722  0.333  0.611  0.389  0.556  0.167  0.639  0.25\n",
        "#>   0.194  0.444  0.472  0.5    0.361  0.667  0.361  0.417  0.528  0.361\n",
        "#>   0.444  0.5    0.556  0.5    0.583  0.639  0.694  0.667  0.472  0.389\n",
        "#>   0.333  0.333  0.417  0.472  0.306  0.472  0.667  0.556  0.361  0.333\n",
        "#>   0.333  0.5    0.417  0.194  0.361  0.389  0.389  0.528  0.222  0.389\n",
        "#>   0.556  0.417  0.778  0.556  0.611  0.917  0.167  0.833  0.667  0.806\n",
        "#>   0.611  0.583  0.694  0.389  0.417  0.583  0.611  0.944  0.944  0.472\n",
        "#>   0.722  0.361  0.944  0.556  0.667  0.806  0.528  0.5    0.583  0.806\n",
        "#>   0.861  1.     0.583  0.556  0.5    0.944  0.556  0.583  0.472  0.722\n",
        "#>   0.667  0.722  0.417  0.694  0.667  0.667  0.556  0.611  0.528  0.444]\n",
        "```"
      ]
    },
    {
      "cell_type": "code",
      "execution_count": null,
      "metadata": {
        "colab": {
          "base_uri": "https://localhost:8080/"
        },
        "id": "RsviUldHvkEU",
        "outputId": "0e084a51-6879-4944-e823-7a33da7b4ec8"
      },
      "outputs": [
        {
          "output_type": "execute_result",
          "data": {
            "text/plain": [
              "array([0.222, 0.167, 0.111, ..., 0.611, 0.528, 0.444])"
            ]
          },
          "metadata": {},
          "execution_count": 86
        }
      ],
      "source": [
        "# Your code here\n",
        "np.set_printoptions(precision=3)\n",
        "url = 'https://archive.ics.uci.edu/ml/machine-learning-databases/iris/iris.data'\n",
        "iris = np.genfromtxt(url, delimiter=',', dtype='float',usecols=[0])\n",
        "imax,imin=iris.max(),iris.min()\n",
        "iris=(iris-imin)/(imax-imin)\n",
        "\n",
        "iris\n"
      ]
    },
    {
      "cell_type": "markdown",
      "metadata": {
        "id": "yv0N4dRnvkEU"
      },
      "source": [
        "24- Find the number and position of missing values in iris_2d‘s sepallength (1st column)\n",
        "- Input:\n",
        "```Python\n",
        "url = 'https://archive.ics.uci.edu/ml/machine-learning-databases/iris/iris.data'\n",
        "iris_2d = np.genfromtxt(url, delimiter=',', dtype='float')\n",
        "iris_2d[np.random.randint(150, size=20), np.random.randint(4, size=20)] = np.nan\n",
        "```\n",
        "- Desired output:\n",
        "```Python\n",
        "#> Number of missing values: \n",
        "...\n",
        "#> Position of missing values: \n",
        "...\n",
        "```"
      ]
    },
    {
      "cell_type": "code",
      "execution_count": null,
      "metadata": {
        "colab": {
          "base_uri": "https://localhost:8080/"
        },
        "id": "SnGyHloevkEV",
        "outputId": "13c56d07-b701-42ad-f970-6a14724a8897"
      },
      "outputs": [
        {
          "output_type": "stream",
          "name": "stdout",
          "text": [
            "5\n",
            "(array([13, 17, 47, 53, 91]),)\n"
          ]
        }
      ],
      "source": [
        "# Your code here\n",
        "import numpy as np\n",
        "url = 'https://archive.ics.uci.edu/ml/machine-learning-databases/iris/iris.data'\n",
        "iris_2d = np.genfromtxt(url, delimiter=',', dtype='float', usecols=[0,1,2,3])\n",
        "iris_2d[np.random.randint(150, size=20), np.random.randint(4, size=20)] = np.nan \n",
        "print(np.isnan(iris_2d[ :,0]).sum()) \n",
        "print(np.where(np.isnan(iris_2d[:,0])))"
      ]
    },
    {
      "cell_type": "markdown",
      "metadata": {
        "id": "0R9210vwvkEW"
      },
      "source": [
        "25- Select the rows of iris_2d that does not have any nan value\n",
        "- Input:\n",
        "```Python\n",
        "# Input\n",
        "url = 'https://archive.ics.uci.edu/ml/machine-learning-databases/iris/iris.data'\n",
        "iris_2d = np.genfromtxt(url, delimiter=',', dtype='float', usecols=[0,1,2,3])\n",
        "```"
      ]
    },
    {
      "cell_type": "code",
      "execution_count": null,
      "metadata": {
        "colab": {
          "base_uri": "https://localhost:8080/"
        },
        "id": "r7Okw18LvkEW",
        "outputId": "46fb6eed-6206-484c-d20f-0196e93007cf"
      },
      "outputs": [
        {
          "output_type": "execute_result",
          "data": {
            "text/plain": [
              "(array([0, 2, 3]),)"
            ]
          },
          "metadata": {},
          "execution_count": 89
        }
      ],
      "source": [
        "# Your code here\n",
        "url = 'https://archive.ics.uci.edu/ml/machine-learning-databases/iris/iris.data'\n",
        "iris_2d = np.genfromtxt(url, delimiter=',', dtype='float', usecols=[0,1,2,3])\n",
        "iris_2d[np.random.randint(150, size=20), np.random.randint(4, size=20)] = np.nan\n",
        "np.where(np.invert(np.isnan(iris_2d[0,:]))) "
      ]
    },
    {
      "cell_type": "markdown",
      "metadata": {
        "id": "akGJTi2_vkEX"
      },
      "source": [
        "26- Replace all ccurrences of `nan` with 0 in numpy array\n",
        "- Input\n",
        "```Python\n",
        "url = 'https://archive.ics.uci.edu/ml/machine-learning-databases/iris/iris.data'\n",
        "iris_2d = np.genfromtxt(url, delimiter=',', dtype='float', usecols=[0,1,2,3])\n",
        "iris_2d[np.random.randint(150, size=20), np.random.randint(4, size=20)] = np.nan\n",
        "```"
      ]
    },
    {
      "cell_type": "code",
      "execution_count": null,
      "metadata": {
        "colab": {
          "base_uri": "https://localhost:8080/"
        },
        "id": "J9eETZ1ivkEX",
        "outputId": "956718b1-7554-49f0-d9fb-ebc6e50b1648"
      },
      "outputs": [
        {
          "output_type": "execute_result",
          "data": {
            "text/plain": [
              "array([[5.1, 3.5, 0. , 0.2],\n",
              "       [4.9, 3. , 1.4, 0.2],\n",
              "       [4.7, 3.2, 1.3, 0.2],\n",
              "       ...,\n",
              "       [6.5, 3. , 5.2, 2. ],\n",
              "       [6.2, 3.4, 5.4, 2.3],\n",
              "       [5.9, 3. , 5.1, 1.8]])"
            ]
          },
          "metadata": {},
          "execution_count": 90
        }
      ],
      "source": [
        "# Your code here\n",
        "url = 'https://archive.ics.uci.edu/ml/machine-learning-databases/iris/iris.data'\n",
        "iris_2d = np.genfromtxt(url, delimiter=',', dtype='float', usecols=[0,1,2,3])\n",
        "iris_2d[np.random.randint(150, size=20), np.random.randint(4, size=20)] = np.nan\n",
        "iris_2d[np.where(np.isnan(iris_2d))]=0\n",
        "iris_2d"
      ]
    },
    {
      "cell_type": "markdown",
      "metadata": {
        "id": "WuLOSjkfvkEY"
      },
      "source": [
        "27- Bin the petal length (3rd) column of iris_2d to form a text array, such that if petal length is:\n",
        "- Less than 3 –> 'small'\n",
        "- 3-5 –> 'medium'\n",
        "- '>=5 –> 'large'\n",
        "- Input \n",
        "```Python\n",
        "url = 'https://archive.ics.uci.edu/ml/machine-learning-databases/iris/iris.data'\n",
        "iris = np.genfromtxt(url, delimiter=',', dtype='object')\n",
        "names = ('sepallength', 'sepalwidth', 'petallength', 'petalwidth', 'species')\n",
        "```\n",
        "- Desired output:\n",
        "```Python\n",
        "petal_length_cat[:4]\n",
        "#> ['small', 'small', 'small', 'small']\n",
        "```"
      ]
    },
    {
      "cell_type": "code",
      "execution_count": null,
      "metadata": {
        "colab": {
          "base_uri": "https://localhost:8080/"
        },
        "id": "sCeyC_SVvkEZ",
        "outputId": "82dc4bdc-ca61-4f76-f6e1-e1de79bacf9c"
      },
      "outputs": [
        {
          "output_type": "execute_result",
          "data": {
            "text/plain": [
              "['small', 'small', 'small', 'small']"
            ]
          },
          "metadata": {},
          "execution_count": 96
        }
      ],
      "source": [
        "# Your code here\n",
        "\n",
        "url = 'https://archive.ics.uci.edu/ml/machine-learning-databases/iris/iris.data'\n",
        "iris = np.genfromtxt(url, delimiter=',', dtype='object')\n",
        "names = ('sepallength', 'sepalwidth', 'petallength', 'petalwidth', 'species')\n",
        "\n",
        "\n",
        "petal_length_bin = np.digitize(iris[:, 2].astype('float'), [0, 3, 5, 10])\n",
        "\n",
        "# Map it to respective category\n",
        "label_map = {1: 'small', 2: 'medium', 3: 'large', 4: np.nan}\n",
        "petal_length_cat = [label_map[x] for x in petal_length_bin]\n",
        "\n",
        "\n",
        "petal_length_cat[:4]\n",
        "\n"
      ]
    },
    {
      "cell_type": "markdown",
      "metadata": {
        "id": "k7ABKHdSvkEZ"
      },
      "source": [
        "28- Find the position of the first occurrence of a value greater than 1.0 in petalwidth 4th column of iris dataset.\n",
        "- Input \n",
        "```Python\n",
        "url = 'https://archive.ics.uci.edu/ml/machine-learning-databases/iris/iris.data'\n",
        "iris = np.genfromtxt(url, delimiter=',', dtype='object')\n",
        "```\n",
        "- Desired output:\n",
        "```Python\n",
        "#> 50\n",
        "```"
      ]
    },
    {
      "cell_type": "code",
      "execution_count": null,
      "metadata": {
        "colab": {
          "base_uri": "https://localhost:8080/"
        },
        "id": "00lV71Z6vkEZ",
        "outputId": "c4286fd9-b326-47f1-89ec-b1e2a4117c95"
      },
      "outputs": [
        {
          "output_type": "execute_result",
          "data": {
            "text/plain": [
              "50"
            ]
          },
          "metadata": {},
          "execution_count": 92
        }
      ],
      "source": [
        "# Your code here\n",
        "url = 'https://archive.ics.uci.edu/ml/machine-learning-databases/iris/iris.data'\n",
        "iris = np.genfromtxt(url, delimiter=',', dtype='float')\n",
        "np.where(iris[:,3]>1.0)[0][0]"
      ]
    },
    {
      "cell_type": "markdown",
      "metadata": {
        "id": "MjEXM5vxvkEZ"
      },
      "source": [
        "29- From the array a, replace all values greater than 30 to 30 and less than 10 to 10. \n",
        "- Input:\n",
        "```Python\n",
        "np.random.seed(100)\n",
        "a = np.random.uniform(1,50, 20)\n",
        "```\n",
        "- Desired output:\n",
        "```Python\n",
        "#> [ 27.63  14.64  21.8   30.    10.    10.    30.    30.    10.    29.18  30.\n",
        "#>   11.25  10.08  10.    11.77  30.    30.    10.    30.    14.43]\n",
        "```"
      ]
    },
    {
      "cell_type": "code",
      "execution_count": null,
      "metadata": {
        "colab": {
          "base_uri": "https://localhost:8080/"
        },
        "id": "q27cfFpTvkEa",
        "outputId": "e03fd852-a7ba-442e-db0e-85a3da03a820"
      },
      "outputs": [
        {
          "output_type": "execute_result",
          "data": {
            "text/plain": [
              "array([27.627, 14.64 , 21.801, ..., 10.   , 30.   , 14.43 ])"
            ]
          },
          "metadata": {},
          "execution_count": 93
        }
      ],
      "source": [
        "# Your code here\n",
        "np.random.seed(100)\n",
        "a = np.random.uniform(1,50, 20)\n",
        "a[np.where(a>30)],a[np.where(a<10)]=30,10 # locate index where the conditions are true then replace them\n",
        "a"
      ]
    },
    {
      "cell_type": "markdown",
      "metadata": {
        "id": "F-BcqGeEvkEa"
      },
      "source": [
        "30- Import the image from the following URL and convert it to a numpy array. URL = ‘https://upload.wikimedia.org/wikipedia/commons/8/8b/Denali_Mt_McKinley.jpg’\n",
        "- Input\n",
        "```Python\n",
        "from io import BytesIO\n",
        "from PIL import Image\n",
        "import PIL, requests\n",
        "```"
      ]
    },
    {
      "cell_type": "code",
      "execution_count": null,
      "metadata": {
        "colab": {
          "base_uri": "https://localhost:8080/"
        },
        "id": "xX-DktjavkEb",
        "outputId": "c6f9bdc5-85d3-42b9-e969-e01a05d07f80"
      },
      "outputs": [
        {
          "output_type": "stream",
          "name": "stdout",
          "text": [
            "(303, 452, 3)\n"
          ]
        },
        {
          "output_type": "execute_result",
          "data": {
            "text/plain": [
              "array([[[  9,  72, 125],\n",
              "        [  9,  72, 125],\n",
              "        [  9,  72, 125],\n",
              "        ...,\n",
              "        [ 42, 103, 147],\n",
              "        [ 42, 103, 147],\n",
              "        [ 43, 104, 148]],\n",
              "\n",
              "       [[  9,  72, 125],\n",
              "        [  9,  72, 125],\n",
              "        [ 10,  73, 126],\n",
              "        ...,\n",
              "        [ 42, 103, 147],\n",
              "        [ 42, 103, 147],\n",
              "        [ 43, 104, 148]],\n",
              "\n",
              "       [[  9,  72, 125],\n",
              "        [ 10,  73, 126],\n",
              "        [ 10,  73, 126],\n",
              "        ...,\n",
              "        [ 44, 105, 150],\n",
              "        [ 45, 106, 151],\n",
              "        [ 45, 106, 151]],\n",
              "\n",
              "       ...,\n",
              "\n",
              "       [[ 21,  41,  50],\n",
              "        [ 29,  51,  64],\n",
              "        [ 28,  54,  69],\n",
              "        ...,\n",
              "        [ 27,  58,  79],\n",
              "        [ 22,  53,  74],\n",
              "        [ 19,  47,  69]],\n",
              "\n",
              "       [[ 27,  51,  63],\n",
              "        [ 29,  55,  68],\n",
              "        [ 27,  56,  72],\n",
              "        ...,\n",
              "        [ 33,  70,  97],\n",
              "        [ 27,  64,  91],\n",
              "        [ 22,  57,  85]],\n",
              "\n",
              "       [[ 18,  45,  56],\n",
              "        [ 20,  48,  62],\n",
              "        [ 21,  52,  70],\n",
              "        ...,\n",
              "        [ 15,  51,  77],\n",
              "        [ 12,  48,  74],\n",
              "        [ 11,  45,  72]]], dtype=uint8)"
            ]
          },
          "metadata": {},
          "execution_count": 94
        }
      ],
      "source": [
        "# Your code here\n",
        "from io import BytesIO\n",
        "from PIL import Image\n",
        "import PIL, requests\n",
        "PIL.__version__\n",
        "url=\"https://upload.wikimedia.org/wikipedia/commons/8/8b/Denali_Mt_McKinley.jpg\"\n",
        "response=requests.get(url)\n",
        "img = Image.open(BytesIO(response.content))\n",
        "data=np.asarray(img)\n",
        "print(data.shape)\n",
        "data"
      ]
    },
    {
      "cell_type": "code",
      "source": [],
      "metadata": {
        "id": "r74dg6tiVOUa"
      },
      "execution_count": null,
      "outputs": []
    }
  ],
  "metadata": {
    "hide_input": false,
    "kernelspec": {
      "display_name": "Python 3.10.4 64-bit",
      "language": "python",
      "name": "python3"
    },
    "language_info": {
      "codemirror_mode": {
        "name": "ipython",
        "version": 3
      },
      "file_extension": ".py",
      "mimetype": "text/x-python",
      "name": "python",
      "nbconvert_exporter": "python",
      "pygments_lexer": "ipython3",
      "version": "3.10.4"
    },
    "vscode": {
      "interpreter": {
        "hash": "916dbcbb3f70747c44a77c7bcd40155683ae19c65e1c03b4aa3499c5328201f1"
      }
    },
    "colab": {
      "provenance": [],
      "collapsed_sections": [],
      "include_colab_link": true
    }
  },
  "nbformat": 4,
  "nbformat_minor": 0
}